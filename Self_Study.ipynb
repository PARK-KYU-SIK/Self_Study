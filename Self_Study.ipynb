{
 "cells": [
  {
   "cell_type": "markdown",
   "metadata": {},
   "source": [
    "# Gradient Descent"
   ]
  },
  {
   "cell_type": "markdown",
   "metadata": {},
   "source": [
    "# 00 - 목차"
   ]
  },
  {
   "cell_type": "markdown",
   "metadata": {},
   "source": [
    "# 01 - 목적\n",
    "- 공부한 내용 중 의문점이 생긴 부분과 해결방안을 생각해본 내용을 정리해보고자 한다"
   ]
  },
  {
   "cell_type": "markdown",
   "metadata": {},
   "source": [
    "# 02 - 경사하강법\n",
    "- 선형회귀 경가하강/상승법 고찰"
   ]
  },
  {
   "cell_type": "markdown",
   "metadata": {},
   "source": [
    "## -01 : 정의\n",
    "\n",
    "- 1차 미분계수를 이용해 함수의 최소값을 찾아가는 방법\n",
    "- 경사하강법을 통해 $\\vec{x} \\cdot \\vec{w} +\\vec{b} = \\hat{y} \\approx \\vec{y}$ 을 만족하는\n",
    "- 즉 MSE 가 최소가 되는 $\\sqrt{\\hat{y}^2 - \\vec{y}^2} =$ 노름2가 최소가 되는 $||\\hat{y} - \\vec{y}||_2$\n",
    "    - $\\hat{y}$ 을 생성하는 $\\vec{w}$ 을 찾는 과정"
   ]
  },
  {
   "cell_type": "markdown",
   "metadata": {},
   "source": [
    "## -02 : 공부 내용"
   ]
  },
  {
   "cell_type": "markdown",
   "metadata": {},
   "source": [
    "### _01 : 최소값을 찾아가는 이유\n",
    "> $\\displaystyle{find, minimun \\quad ||\\vec{y} - \\hat{y}||_2 = ||\\vec{y} - \\hat{x} \\cdot \\vec{w} +\\vec{b}||_2} \\\\$\n",
    "> $\\displaystyle{\\qquad\\qquad\\qquad\\qquad\\qquad\\qquad = \\sqrt{\\vec{y}^2 - (\\vec{x} \\cdot \\vec{w} +\\vec{b})^2} \\quad \\leftarrow \\quad \\hat{y} = \\vec{x}\\vec{w} + \\vec{b}} $\n",
    ">> $ find \\; \\vec{w} \\; and \\; \\vec{b} \\\\$\n",
    ">> $\\hat{y} = \\vec{x}\\vec{w} + \\vec{b} \\\\$\n",
    ">> $ \\;\\, \\rightarrow \\quad \\vec{w} = \\vec{x}^{\\top}\\hat{y} - \\vec{x}^{\\top}\\vec{b} \\\\$\n",
    ">> $ \\quad \\rightarrow \\quad \\sqrt{\\vec{y}^2 - (\\vec{x}\\vec{x}^{\\top}\\hat{y} - \\vec{x}^{\\top}\\vec{b} +\\vec{b})^2} \\\\$\n",
    ">> $ \\qquad \\rightarrow \\quad \\vec{w}$ 최적값 $\\quad \\rightarrow \\quad \\vec{x}$ 에 대한 항등식의 최소값 $\\quad \\rightarrow \\quad $ 경사하강법"
   ]
  },
  {
   "cell_type": "markdown",
   "metadata": {},
   "source": [
    "### _02 : 경사하강법 적용식 개념\n",
    "\n",
    "- $f^{'}(x) > 0 \\; : \\; 미분값 \\; 양수 $\n",
    "    > $f(x + f^{'}(x))$ : 증가\n",
    "    > $\\\\ f(x - f^{'}(x))$ : 감소\n",
    "\n",
    "- $f^{'}(x) < 0 \\; : \\; 미분값 \\; 음수 $\n",
    "    > $f(x + f^{'}(x))$ : 감소\n",
    "    > $\\\\ f(x - f^{'}(x))$ : 증가"
   ]
  },
  {
   "cell_type": "markdown",
   "metadata": {},
   "source": [
    "### _03 : 적용 방법\n",
    "- $f^{'}(x) > 0 \\; : \\; 미분값 \\; 양수 $\n",
    "    > $\\\\ f(x - f^{'}(x))$ : 감소\n",
    "- $f^{'}(x) < 0 \\; : \\; 미분값 \\; 음수 $\n",
    "    > $\\\\ f(x - f^{'}(x))$ : 증가\n",
    "\n",
    "<br/>\n",
    "\n",
    "\n",
    "- $f(x \\; - \\; f'(x) * lr )$ 과정을 무한히 반복하여 $epsilon \\geq f'(x)$ 시점을 찾아 간다"
   ]
  },
  {
   "cell_type": "markdown",
   "metadata": {},
   "source": [
    "## -03 : 궁금증"
   ]
  },
  {
   "cell_type": "markdown",
   "metadata": {},
   "source": [
    "### _01 : Question-1\n",
    "- 의문점\n",
    "    - $\\vec{w}$ 에 대한 최적값을 경사하강법으로 접근시 2차 포물선이 아닌 변곡점이 여러개인 경우 최저점이 아닌곳에서 기울기가 0으로 수렴해 버릴 수 도 있다고 생각되는데 이경우엔 어떻게 해결해야하는지?\n",
    "\n",
    "- 고민 -1\n",
    "    > learning rate 를 크게 잡아 변곡점을 넘겨서 학습을 시켜보는 방법을 시도\n",
    "    - 문제점\n",
    "        > 다양한 차원의 feature 의 경우 모든 경우를 챙길 수도 없을 뿐더러 너무 무모한 방법으로 보이고 불확실한 학습법으로 생각됨\n",
    "\n",
    "- 고민 -2\n",
    "    > 도함수의 차수를 획득하여 무조건 확인해야하는 변곡점의 대략적인 위치를 확보하고 해당 위치에 근사하게 접근?\n",
    "    - 문제점\n",
    "        > 전제부터 잘못됨, 식 자체를 모르는 상황속에서 각 변수값을 통해 도함수를 얻고 그것을 통해 경사하강이라는 방향성으로 접근해가는 것이므로 사전에 그래프의 걔형을 알 수 없음\n",
    "        \n",
    "- 고민 -3\n",
    "    > 경사하강법을 진행하는 동안 왠만하면 기울기값은 +,- 값이 한번은 진동할 것으로 생각되는데 이때 하나의 변곡점의 위치를 대략 산출하고 이 진동범위 좌우 밖으로 변수를 임의로 크게 뻗쳐 병렬로 계산시켜 본다\n",
    "    - 모든 경우를 다 헤아릴 수 없을지라도 어느정도 가능성이 있지 않을까?\n"
   ]
  },
  {
   "cell_type": "code",
   "execution_count": null,
   "metadata": {},
   "outputs": [],
   "source": []
  }
 ],
 "metadata": {
  "kernelspec": {
   "display_name": "Python 3.8.13 ('m1')",
   "language": "python",
   "name": "python3"
  },
  "language_info": {
   "codemirror_mode": {
    "name": "ipython",
    "version": 3
   },
   "file_extension": ".py",
   "mimetype": "text/x-python",
   "name": "python",
   "nbconvert_exporter": "python",
   "pygments_lexer": "ipython3",
   "version": "3.8.13"
  },
  "orig_nbformat": 4,
  "vscode": {
   "interpreter": {
    "hash": "bdc2b39dba4a1a2bb6d840bc8828727e3a4c4135026ee5b84640756028bbf810"
   }
  }
 },
 "nbformat": 4,
 "nbformat_minor": 2
}
