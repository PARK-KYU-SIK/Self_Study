{
 "cells": [
  {
   "cell_type": "markdown",
   "metadata": {},
   "source": [
    "# 목차\n",
    "01. 목적\n",
    "02. 경사하강법\n",
    "    - 01- 정의\n",
    "    - 02- 공부 내용\n",
    "        - 사용하는 이유\n",
    "        - 적용식 개념\n",
    "        - 적용 방법\n",
    "    - 03- 궁금증"
   ]
  },
  {
   "cell_type": "markdown",
   "metadata": {},
   "source": [
    "# 01 - 목적\n",
    "- 공부한 내용 중 의문점이 생긴 부분과 해결방안을 생각해본 내용을 정리해보고자 한다"
   ]
  },
  {
   "cell_type": "markdown",
   "metadata": {},
   "source": [
    "# 02 - 경사하강법\n",
    "- 선형회귀 경가하강/상승법 고찰"
   ]
  },
  {
   "cell_type": "markdown",
   "metadata": {},
   "source": [
    "## -01 : 정의\n",
    "\n",
    "- 1차 미분계수를 이용해 함수의 최소값을 찾아가는 방법\n",
    "- 경사하강법을 통해 $\\vec{x} \\cdot \\vec{w} +\\vec{b} = \\hat{y} \\approx \\vec{y}$ 을 만족하는\n",
    "- 즉 Loss ( $\\mathcal{L}$ ) 가 최소가 되는 $||\\hat{y} - \\vec{y}||_2$ 이 최소가 되는 $\\mathcal{L} = {\\frac{1}{N}}\\sum_{i=1}^N(y_i \\; - \\; \\hat{y}_i)^2$ 을 구하는 과정"
   ]
  },
  {
   "cell_type": "markdown",
   "metadata": {},
   "source": [
    "## -02 : 공부 내용"
   ]
  },
  {
   "cell_type": "markdown",
   "metadata": {},
   "source": [
    "### _01 : 경사하강법을 사용하는 이유\n",
    "> $find, \\; minimum \\;$ Loss \n",
    ">> $\\\\ \\displaystyle{\\rightarrow \\quad \\mathcal{L} = {\\frac{1}{N}}\\sum_{i=1}^N(y_i \\; - \\; \\hat{y}_i)^2}$\n",
    ">>> $\\\\ \\displaystyle{\\quad = \\quad \\frac{1}{N}\\sum_{i=1}^N(y_i \\; - \\; wx_i \\; - \\; b)^2}$\n",
    ">>>> $\\\\ \\displaystyle{\\quad = \\quad \\frac{1}{N}\\sum_{i=1}^N(y_i^2 \\; -2x_iy_iw \\; -2by_i \\; + x_i^2w^2 \\; + 2bx_iw \\; + b^2)}$\n",
    ">>>>> $\\\\ \\displaystyle{\\quad = \\quad \\frac{1}{N}\\sum_{i=1}^N(x_i^2w^2 \\; -2x_iy_iw \\; + \\; 2bx_iw \\; + \\; y_i^2 \\; -2by_i \\; + b^2)}$\n",
    ">>>>>> $\\\\ \\quad \\rightarrow \\quad w$ 에 대한 $\\mathcal{L}$의 2차 함수\n",
    ">>>>>>> $\\\\ \\quad \\rightarrow \\quad w^2$ 의 계수가 ${x_i}^2$ 즉, 양수 이므로 극소점을 갖고 양의 방향으로 발산하는 비선형 함수임을 알 수 있다.\n",
    ">>>>>>>> $\\\\ \\quad \\rightarrow \\quad$ 즉 Loss 의 최소값은 함수의 최소값이며, *극소점* 을 찾는 과정"
   ]
  },
  {
   "cell_type": "markdown",
   "metadata": {},
   "source": [
    "### _02 : 경사하강법 적용식 개념\n",
    "\n",
    "- $f^{'}(x) > 0 \\; : \\; 미분값 \\; 양수 $\n",
    "    - $f(x + f^{'}(x))$ : 증가\n",
    "    - $\\\\ f(x - f^{'}(x))$ : 감소\n",
    "\n",
    "- $f^{'}(x) < 0 \\; : \\; 미분값 \\; 음수 $\n",
    "    - $f(x + f^{'}(x))$ : 감소\n",
    "    - $\\\\ f(x - f^{'}(x))$ : 증가"
   ]
  },
  {
   "cell_type": "markdown",
   "metadata": {},
   "source": [
    "### _03 : 적용 방법\n",
    "- $f^{'}(x) > 0 \\; : \\; 미분값 \\; 양수 $\n",
    "    - $\\\\ f(x - f^{'}(x))$ : 감소\n",
    "- $f^{'}(x) < 0 \\; : \\; 미분값 \\; 음수 $\n",
    "    - $\\\\ f(x - f^{'}(x))$ : 증가\n",
    "\n",
    "<br/>\n",
    "\n",
    "\n",
    "- $f(x \\; - \\; f'(x) * lr )$ 과정을 무한히 반복하여 $epsilon \\geq f'(x)$ 시점을 찾아 간다"
   ]
  },
  {
   "cell_type": "markdown",
   "metadata": {},
   "source": [
    "## -03 : 궁금증"
   ]
  },
  {
   "cell_type": "markdown",
   "metadata": {},
   "source": [
    "### _01 : Question-1\n",
    "- 의문점\n",
    "    - $\\vec{w}$ 에 대한 최적값을 경사하강법으로 접근시 2차 포물선이 아닌 변곡점이 여러개인 경우도 발생할 수 있을까?\n",
    "\n",
    "- 고민 -1\n",
    "    > $\\displaystyle{\\frac{1}{N}\\sum_{i=1}^N(x_i^2w^2 \\; -2x_iy_iw \\; + \\; 2bx_iw \\; + \\; y_i^2 \\; -2by_i \\; + b^2)}$ 의 $2bx_iw$ 라는 항이 존재한다.\n",
    "    >> $\\\\ \\quad \\rightarrow \\quad x_i \\;$ 와 $y_i \\;$ 를 상수항( = 1 )이라고 가정하고 소거하여 간단하게 모양을 변경해 보았다\n",
    "    >>> $\\\\ \\quad \\rightarrow \\quad \\displaystyle{\\frac{1}{N}\\sum(w^2 \\; -2w \\; + \\; 2bw \\; + \\; 1 \\; -2b \\; + b^2)}$\n",
    "    >>>> $\\\\ \\quad \\rightarrow \\quad$ 간단하게는 $w$ 축에대해 2차 증가포물곡선, $b$ 축에 대한 증가포물곡선, 이 합쳐진 형태로 보여진다\n",
    "    >>>>> 각변수 때문에의한 발산하는 경우는 고려하지 않아도 괜찮을거 같다"
   ]
  },
  {
   "cell_type": "markdown",
   "metadata": {},
   "source": [
    "### _01 : Question-2\n",
    "- 의문점\n",
    "    - $\\vec{w}$ 에 대한 최적값을 경사하강법으로 접근시 2차 포물선이 아닌 변곡점이 여러개인 경우 최저점이 아닌곳에서 기울기가 0으로 수렴해 버릴 수 도 있다고 생각되는데 이경우엔 어떻게 해결해야하는지?\n",
    "    - (해결) -> 경사하강법를 잘못이해하고 있었다\n",
    "\n",
    "- 고민 -1\n",
    "    > learning rate 를 크게 잡아 변곡점을 넘겨서 학습을 시켜보는 방법을 시도\n",
    "    - 문제점\n",
    "        > 다양한 차원의 feature 의 경우 모든 경우를 챙길 수도 없을 뿐더러 너무 무모한 방법으로 보이고 불확실한 학습법으로 생각됨\n",
    "\n",
    "- 고민 -2\n",
    "    > 도함수의 차수를 획득하여 무조건 확인해야하는 변곡점의 대략적인 위치를 확보하고 해당 위치에 근사하게 접근?\n",
    "    - 문제점\n",
    "        > 전제부터 잘못됨, 식 자체를 모르는 상황속에서 각 변수값을 통해 도함수를 얻고 그것을 통해 경사하강이라는 방향성으로 접근해가는 것이므로 사전에 그래프의 걔형을 알 수 없음\n",
    "        \n",
    "- 고민 -3\n",
    "    > 경사하강법을 진행하는 동안 왠만하면 기울기값은 +,- 값이 한번은 진동할 것으로 생각되는데 이때 하나의 변곡점의 위치를 대략 산출하고 이 진동범위 좌우 밖으로 변수를 임의로 크게 뻗쳐 병렬로 계산시켜 본다\n",
    "    - 모든 경우를 다 헤아릴 수 없을지라도 어느정도 가능성이 있지 않을까?\n"
   ]
  },
  {
   "cell_type": "code",
   "execution_count": null,
   "metadata": {},
   "outputs": [],
   "source": []
  }
 ],
 "metadata": {
  "kernelspec": {
   "display_name": "Python 3.8.13 ('m1')",
   "language": "python",
   "name": "python3"
  },
  "language_info": {
   "codemirror_mode": {
    "name": "ipython",
    "version": 3
   },
   "file_extension": ".py",
   "mimetype": "text/x-python",
   "name": "python",
   "nbconvert_exporter": "python",
   "pygments_lexer": "ipython3",
   "version": "3.8.13"
  },
  "orig_nbformat": 4,
  "vscode": {
   "interpreter": {
    "hash": "bdc2b39dba4a1a2bb6d840bc8828727e3a4c4135026ee5b84640756028bbf810"
   }
  }
 },
 "nbformat": 4,
 "nbformat_minor": 2
}
